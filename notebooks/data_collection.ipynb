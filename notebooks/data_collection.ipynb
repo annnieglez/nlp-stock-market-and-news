{
 "cells": [
  {
   "cell_type": "markdown",
   "id": "edcb52b5",
   "metadata": {},
   "source": [
    "# Stock and News Data Collection Notebook\n",
    "\n",
    "This notebook is designed to collect and save stock data and related news articles from various sources. The workflow includes:\n",
    "\n",
    "1. **Data Collection**:\n",
    "    - Using Alpha Vantage API to gather stock data and news articles.\n",
    "    - Fetching news articles from Markets Insider.\n",
    "    - Retrieving news articles from Google News.\n",
    "    - Using Yahoo to gather daily stock data\n",
    "\n",
    "2. **Data Saving**:\n",
    "    - Saving the collected data into CSV files for further analysis.\n",
    "\n",
    "3. **Date Range**:\n",
    "    - The data is collected for the last 3 years from the current date.\n",
    "\n",
    "4. **Stock Symbols**:\n",
    "    - The analysis focuses on the following stock symbols: TSLA, AAPL, AMZN, NVDA, GS, BAC, and GME."
   ]
  },
  {
   "cell_type": "code",
   "execution_count": 14,
   "id": "258c934b",
   "metadata": {},
   "outputs": [
    {
     "name": "stdout",
     "output_type": "stream",
     "text": [
      "The autoreload extension is already loaded. To reload it, use:\n",
      "  %reload_ext autoreload\n"
     ]
    }
   ],
   "source": [
    "# Library imports\n",
    "\n",
    "# Standard library imports\n",
    "from datetime import datetime, timedelta\n",
    "\n",
    "# Custom library imports\n",
    "from nlp_scripts import data_collection as coll\n",
    "\n",
    "# Enable auto-reload for modules during development\n",
    "%load_ext autoreload\n",
    "%autoreload 2\n",
    "\n",
    "import warnings\n",
    "warnings.filterwarnings(\"ignore\")"
   ]
  },
  {
   "cell_type": "code",
   "execution_count": 15,
   "id": "ce767323",
   "metadata": {},
   "outputs": [],
   "source": [
    "# List of stock symbols to analyze\n",
    "stock_symbols = [\"TSLA\", \"AAPL\", \"AMZN\", \"NVDA\", \"GS\", \"BAC\", \"GME\"]\n",
    "stock_names = [\"Tesla\", \"Apple\", \"Amazon\", \"NVIDIA\", \"Goldman Sachs\", \"Bank of America\", \"GameStop\"]\n",
    "\n",
    "# Date range (Last 3 years from today)\n",
    "#Start date: 20220406T1537\n",
    "#End date: 20250405T1537\n",
    "end_date = datetime.today().strftime('%Y%m%dT%H%M')\n",
    "start_date = (datetime.today() - timedelta(days=3*365)).strftime('%Y%m%dT%H%M')"
   ]
  },
  {
   "cell_type": "code",
   "execution_count": 3,
   "id": "64c2853e",
   "metadata": {},
   "outputs": [
    {
     "name": "stdout",
     "output_type": "stream",
     "text": [
      "Start date: 20220406T1537\n",
      "End date: 20250405T1537\n"
     ]
    }
   ],
   "source": [
    "print (f\"Start date: {start_date}\")\n",
    "print (f\"End date: {end_date}\")"
   ]
  },
  {
   "cell_type": "markdown",
   "id": "8e9e6c4e",
   "metadata": {},
   "source": [
    "### ALPHA VANTAGE"
   ]
  },
  {
   "cell_type": "code",
   "execution_count": null,
   "id": "156cc12b",
   "metadata": {},
   "outputs": [],
   "source": [
    "# Getting stock data and news articles for the specified symbols and date range\n",
    "stock_and_news_data_dict_alpha = coll.collect_data_alpha_vantage(stock_symbols, start_date, end_date)"
   ]
  },
  {
   "cell_type": "code",
   "execution_count": null,
   "id": "88e50799",
   "metadata": {},
   "outputs": [],
   "source": [
    "# Saving the collected data to CSV files\n",
    "for key, value in stock_and_news_data_dict_alpha.items():\n",
    "    news_alpha = value['news']\n",
    "    news_alpha.to_csv(f\"../data/data_to_clean/news_{key}_alpha_vantage.csv\", index=False)\n",
    "    stocks_alpha = value['stocks']\n",
    "    stocks_alpha.to_csv(f\"../data/data_to_clean/stocks_{key}_alpha_vantage.csv\", index=False)\n"
   ]
  },
  {
   "cell_type": "markdown",
   "id": "bb537661",
   "metadata": {},
   "source": [
    "### Markets insider"
   ]
  },
  {
   "cell_type": "code",
   "execution_count": null,
   "id": "71ebb267",
   "metadata": {},
   "outputs": [],
   "source": [
    "# Getting news data from Market Insider\n",
    "news_data_dict_market = coll.get_news_from_markets_insider(stock_symbols)"
   ]
  },
  {
   "cell_type": "code",
   "execution_count": null,
   "id": "f2a9f348",
   "metadata": {},
   "outputs": [],
   "source": [
    "# Saving the collected data to CSV files\n",
    "for key, value in news_data_dict_market.items():\n",
    "    news_market = value\n",
    "    news_market.to_csv(f\"../data/data_to_clean/news_{key}_markets_insider.csv\", index=False)\n"
   ]
  },
  {
   "cell_type": "markdown",
   "id": "7b6d1eae",
   "metadata": {},
   "source": [
    "### Google News"
   ]
  },
  {
   "cell_type": "code",
   "execution_count": null,
   "id": "09ddb490",
   "metadata": {},
   "outputs": [],
   "source": [
    "# Getting news articles from Google for the specified stock names and date range\n",
    "news_data_dict_google = coll.get_google_news_articles(stock_names, start_date, end_date, number_of_articles=10)"
   ]
  },
  {
   "cell_type": "code",
   "execution_count": null,
   "id": "844a62f6",
   "metadata": {},
   "outputs": [],
   "source": [
    "# Saving the collected data to CSV files\n",
    "for key, value in news_data_dict_google.items():\n",
    "    news_google = value\n",
    "    news_google.to_csv(f\"../data/data_to_clean/news_{key}_google_search.csv\", index=False)\n"
   ]
  },
  {
   "cell_type": "markdown",
   "id": "4a3ee8de",
   "metadata": {},
   "source": [
    "### Yahoo"
   ]
  },
  {
   "cell_type": "code",
   "execution_count": 16,
   "id": "4546cb95",
   "metadata": {},
   "outputs": [
    {
     "data": {
      "application/vnd.jupyter.widget-view+json": {
       "model_id": "333a9332fe244fa0bc1d918eb3afe590",
       "version_major": 2,
       "version_minor": 0
      },
      "text/plain": [
       "  0%|          | 0/7 [00:00<?, ?it/s]"
      ]
     },
     "metadata": {},
     "output_type": "display_data"
    },
    {
     "name": "stderr",
     "output_type": "stream",
     "text": [
      "[*********************100%***********************]  1 of 1 completed\n",
      "[*********************100%***********************]  1 of 1 completed\n",
      "[*********************100%***********************]  1 of 1 completed\n"
     ]
    },
    {
     "name": "stdout",
     "output_type": "stream",
     "text": [
      "✅ Retrieved stock data for TSLA from Yahoo Finance\n",
      "✅ Retrieved stock data for AAPL from Yahoo Finance\n",
      "✅ Retrieved stock data for AMZN from Yahoo Finance\n"
     ]
    },
    {
     "name": "stderr",
     "output_type": "stream",
     "text": [
      "[*********************100%***********************]  1 of 1 completed\n",
      "[*********************100%***********************]  1 of 1 completed\n",
      "[*********************100%***********************]  1 of 1 completed\n",
      "[*********************100%***********************]  1 of 1 completed"
     ]
    },
    {
     "name": "stdout",
     "output_type": "stream",
     "text": [
      "✅ Retrieved stock data for NVDA from Yahoo Finance\n",
      "✅ Retrieved stock data for GS from Yahoo Finance\n",
      "✅ Retrieved stock data for BAC from Yahoo Finance\n",
      "✅ Retrieved stock data for GME from Yahoo Finance\n"
     ]
    },
    {
     "name": "stderr",
     "output_type": "stream",
     "text": [
      "\n"
     ]
    }
   ],
   "source": [
    "stock_data_dict = coll.get_yahoo_stock_data(stock_symbols, start_date, end_date)"
   ]
  },
  {
   "cell_type": "code",
   "execution_count": 17,
   "id": "876f7e14",
   "metadata": {},
   "outputs": [
    {
     "data": {
      "application/vnd.microsoft.datawrangler.viewer.v0+json": {
       "columns": [
        {
         "name": "index",
         "rawType": "int64",
         "type": "integer"
        },
        {
         "name": "('Date', '')",
         "rawType": "datetime64[ns]",
         "type": "datetime"
        },
        {
         "name": "('Close', 'TSLA')",
         "rawType": "float64",
         "type": "float"
        },
        {
         "name": "('High', 'TSLA')",
         "rawType": "float64",
         "type": "float"
        },
        {
         "name": "('Low', 'TSLA')",
         "rawType": "float64",
         "type": "float"
        },
        {
         "name": "('Open', 'TSLA')",
         "rawType": "float64",
         "type": "float"
        },
        {
         "name": "('Volume', 'TSLA')",
         "rawType": "int64",
         "type": "integer"
        }
       ],
       "conversionMethod": "pd.DataFrame",
       "ref": "b560206e-3b6f-4983-8339-961721d4d9a8",
       "rows": [
        [
         "0",
         "2022-05-09 00:00:00",
         "262.3699951171875",
         "281.8766784667969",
         "260.3833312988281",
         "278.8166809082031",
         "90810300"
        ],
        [
         "1",
         "2022-05-10 00:00:00",
         "266.67999267578125",
         "275.1199951171875",
         "258.0833435058594",
         "273.10333251953125",
         "84401700"
        ],
        [
         "2",
         "2022-05-11 00:00:00",
         "244.6666717529297",
         "269.92333984375",
         "242.39999389648438",
         "265.0",
         "97224600"
        ],
        [
         "3",
         "2022-05-12 00:00:00",
         "242.6666717529297",
         "253.22000122070312",
         "226.6666717529297",
         "233.6666717529297",
         "140313000"
        ],
        [
         "4",
         "2022-05-13 00:00:00",
         "256.5299987792969",
         "262.45001220703125",
         "250.52333068847656",
         "257.82666015625",
         "92150700"
        ]
       ],
       "shape": {
        "columns": 6,
        "rows": 5
       }
      },
      "text/html": [
       "<div>\n",
       "<style scoped>\n",
       "    .dataframe tbody tr th:only-of-type {\n",
       "        vertical-align: middle;\n",
       "    }\n",
       "\n",
       "    .dataframe tbody tr th {\n",
       "        vertical-align: top;\n",
       "    }\n",
       "\n",
       "    .dataframe thead tr th {\n",
       "        text-align: left;\n",
       "    }\n",
       "</style>\n",
       "<table border=\"1\" class=\"dataframe\">\n",
       "  <thead>\n",
       "    <tr>\n",
       "      <th>Price</th>\n",
       "      <th>Date</th>\n",
       "      <th>Close</th>\n",
       "      <th>High</th>\n",
       "      <th>Low</th>\n",
       "      <th>Open</th>\n",
       "      <th>Volume</th>\n",
       "    </tr>\n",
       "    <tr>\n",
       "      <th>Ticker</th>\n",
       "      <th></th>\n",
       "      <th>TSLA</th>\n",
       "      <th>TSLA</th>\n",
       "      <th>TSLA</th>\n",
       "      <th>TSLA</th>\n",
       "      <th>TSLA</th>\n",
       "    </tr>\n",
       "  </thead>\n",
       "  <tbody>\n",
       "    <tr>\n",
       "      <th>0</th>\n",
       "      <td>2022-05-09</td>\n",
       "      <td>262.369995</td>\n",
       "      <td>281.876678</td>\n",
       "      <td>260.383331</td>\n",
       "      <td>278.816681</td>\n",
       "      <td>90810300</td>\n",
       "    </tr>\n",
       "    <tr>\n",
       "      <th>1</th>\n",
       "      <td>2022-05-10</td>\n",
       "      <td>266.679993</td>\n",
       "      <td>275.119995</td>\n",
       "      <td>258.083344</td>\n",
       "      <td>273.103333</td>\n",
       "      <td>84401700</td>\n",
       "    </tr>\n",
       "    <tr>\n",
       "      <th>2</th>\n",
       "      <td>2022-05-11</td>\n",
       "      <td>244.666672</td>\n",
       "      <td>269.923340</td>\n",
       "      <td>242.399994</td>\n",
       "      <td>265.000000</td>\n",
       "      <td>97224600</td>\n",
       "    </tr>\n",
       "    <tr>\n",
       "      <th>3</th>\n",
       "      <td>2022-05-12</td>\n",
       "      <td>242.666672</td>\n",
       "      <td>253.220001</td>\n",
       "      <td>226.666672</td>\n",
       "      <td>233.666672</td>\n",
       "      <td>140313000</td>\n",
       "    </tr>\n",
       "    <tr>\n",
       "      <th>4</th>\n",
       "      <td>2022-05-13</td>\n",
       "      <td>256.529999</td>\n",
       "      <td>262.450012</td>\n",
       "      <td>250.523331</td>\n",
       "      <td>257.826660</td>\n",
       "      <td>92150700</td>\n",
       "    </tr>\n",
       "  </tbody>\n",
       "</table>\n",
       "</div>"
      ],
      "text/plain": [
       "Price        Date       Close        High         Low        Open     Volume\n",
       "Ticker                   TSLA        TSLA        TSLA        TSLA       TSLA\n",
       "0      2022-05-09  262.369995  281.876678  260.383331  278.816681   90810300\n",
       "1      2022-05-10  266.679993  275.119995  258.083344  273.103333   84401700\n",
       "2      2022-05-11  244.666672  269.923340  242.399994  265.000000   97224600\n",
       "3      2022-05-12  242.666672  253.220001  226.666672  233.666672  140313000\n",
       "4      2022-05-13  256.529999  262.450012  250.523331  257.826660   92150700"
      ]
     },
     "execution_count": 17,
     "metadata": {},
     "output_type": "execute_result"
    }
   ],
   "source": [
    "stock_data_dict[\"TSLA\"].head()"
   ]
  },
  {
   "cell_type": "code",
   "execution_count": 18,
   "id": "76d7b421",
   "metadata": {},
   "outputs": [],
   "source": [
    "# Saving the collected data to CSV files\n",
    "for key, value in stock_data_dict.items():\n",
    "    stock_yahoo = value\n",
    "    stock_yahoo.to_csv(f\"../data/data_to_clean/stock_{key}_yahoo.csv\", index=False)"
   ]
  }
 ],
 "metadata": {
  "kernelspec": {
   "display_name": "nlp_news",
   "language": "python",
   "name": "python3"
  },
  "language_info": {
   "codemirror_mode": {
    "name": "ipython",
    "version": 3
   },
   "file_extension": ".py",
   "mimetype": "text/x-python",
   "name": "python",
   "nbconvert_exporter": "python",
   "pygments_lexer": "ipython3",
   "version": "3.10.0"
  }
 },
 "nbformat": 4,
 "nbformat_minor": 5
}
